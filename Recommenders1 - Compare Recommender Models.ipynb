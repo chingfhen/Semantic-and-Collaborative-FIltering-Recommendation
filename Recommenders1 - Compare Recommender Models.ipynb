{
 "cells": [
  {
   "cell_type": "markdown",
   "id": "80c75af5",
   "metadata": {},
   "source": [
    "# ABOUT\n",
    "- this notebook compare performances of difference recommender models"
   ]
  },
  {
   "cell_type": "code",
   "execution_count": 1,
   "id": "a45bf068",
   "metadata": {},
   "outputs": [
    {
     "name": "stderr",
     "output_type": "stream",
     "text": [
      "C:\\Users\\tanch\\anaconda3\\envs\\dp\\lib\\site-packages\\tqdm\\auto.py:22: TqdmWarning: IProgress not found. Please update jupyter and ipywidgets. See https://ipywidgets.readthedocs.io/en/stable/user_install.html\n",
      "  from .autonotebook import tqdm as notebook_tqdm\n"
     ]
    }
   ],
   "source": [
    "from models import ALSRecommender, PopRecommender\n",
    "from evaluation import evaluate\n",
    "from processing import *\n",
    "from utils import IDMAP\n",
    "import pandas as pd\n",
    "import seaborn as sb"
   ]
  },
  {
   "cell_type": "markdown",
   "id": "fd96d68a",
   "metadata": {},
   "source": [
    "### process"
   ]
  },
  {
   "cell_type": "code",
   "execution_count": 2,
   "id": "9ae5578d",
   "metadata": {},
   "outputs": [],
   "source": [
    "path = r\"C:\\Users\\tanch\\Documents\\NTU\\NTU Year 4\\Semester 1\\CZ4125 - Developing Data Products\\Assignments\\Team Assignment - book recommendation\\data\\Ratings.csv\\Ratings.csv\"\n",
    "data = pd.read_csv(path)\n",
    "\n",
    "# remove samples with less than minimum_interaction\n",
    "processed_data = filter_by_num_interactions(data, \"User-ID\", \"ISBN\", minimum_interaction = 10)\n",
    "processed_data = filter_by_num_interactions(processed_data, \"ISBN\", \"User-ID\", minimum_interaction = 10)\n",
    "processed_data = filter_by_num_interactions(processed_data, \"User-ID\", \"ISBN\", minimum_interaction = 10)\n",
    "processed_data = filter_by_num_interactions(processed_data, \"ISBN\", \"User-ID\", minimum_interaction = 10)\n",
    "# add column containing all ones\n",
    "processed_data = add_interaction_column(processed_data)\n",
    "# train_test_split\n",
    "train, test = train_test_split(processed_data, train_frac = 0.7, seed = 0)\n",
    "# convert to csr interaction matrix i.e input to model\n",
    "train_csr, users, items = df2interact_mat(df = train, user_col = 'User-ID', item_col = \"ISBN\", interact_col = \"interaction\")\n",
    "# retain a mapping between userids, itemids and their indexes in the recommender model\n",
    "user_map = IDMAP(users)\n",
    "item_map = IDMAP(items)"
   ]
  },
  {
   "cell_type": "code",
   "execution_count": 26,
   "id": "8d1812a1",
   "metadata": {},
   "outputs": [],
   "source": [
    "model_path = r\"C:\\Users\\tanch\\Documents\\NTU\\NTU Year 4\\Semester 1\\CZ4125 - Developing Data Products\\Assignments\\Team Assignment - book recommendation\\code\\models\\test0\"\n",
    "hyperparameters = {\n",
    "    \"AlternatingLeastSquares\":{\n",
    "        \"factors\":64, \n",
    "        \"regularization\":0.01, \n",
    "        \"alpha\":1.0, \n",
    "        \"iterations\" : 20,\n",
    "        \"random_state\":0\n",
    "    },\n",
    "    \"BayesianPersonalizedRanking\":{\n",
    "        \"factors\":64, \n",
    "        \"learning_rate\":0.01,\n",
    "        \"regularization\":0.01, \n",
    "        \"verify_negative_samples\":True, \n",
    "        \"iterations\" : 100,\n",
    "        \"random_state\":0\n",
    "    },\n",
    "    \"LogisticMatrixFactorization\":{\n",
    "        \"factors\":64, \n",
    "        \"learning_rate\":1.0,\n",
    "        \"regularization\":0.6,\n",
    "        \"neg_prop\":30,\n",
    "        \"iterations\" : 100,\n",
    "        \"random_state\":0\n",
    "    }\n",
    "}"
   ]
  },
  {
   "cell_type": "markdown",
   "id": "79ed2ebd",
   "metadata": {},
   "source": [
    "## Compare model performances"
   ]
  },
  {
   "cell_type": "code",
   "execution_count": 27,
   "id": "bf6eaa10",
   "metadata": {},
   "outputs": [
    {
     "name": "stderr",
     "output_type": "stream",
     "text": [
      "100%|██████████████████████████████████████████████████████████████████████████████████| 20/20 [00:16<00:00,  1.22it/s]\n",
      "100%|████████████████████████████████████████████████████████████████████████████| 1000/1000 [00:00<00:00, 1150.43it/s]\n",
      "100%|███████████████████████████████████████████████| 100/100 [00:03<00:00, 27.76it/s, train_auc=93.13%, skipped=3.40%]\n",
      "100%|████████████████████████████████████████████████████████████████████████████| 1000/1000 [00:00<00:00, 1184.33it/s]\n",
      "100%|████████████████████████████████████████████████████████████████████████████████| 100/100 [00:20<00:00,  4.99it/s]\n",
      "100%|████████████████████████████████████████████████████████████████████████████| 1000/1000 [00:00<00:00, 1266.29it/s]\n"
     ]
    }
   ],
   "source": [
    "results = {}\n",
    "for model_name, config in hyperparameters.items():\n",
    "    # train on training set\n",
    "    model = ALSRecommender(model_name, hyperparameters[model_name], train_csr, user_map, item_map)\n",
    "    model.fit()\n",
    "    # evaluate on test set\n",
    "    results[model_name] = evaluate(model, test)"
   ]
  },
  {
   "cell_type": "code",
   "execution_count": 28,
   "id": "0bcddbaa",
   "metadata": {},
   "outputs": [
    {
     "name": "stderr",
     "output_type": "stream",
     "text": [
      "100%|█████████████████████████████████████████████████████████████████████████████| 1000/1000 [00:07<00:00, 140.75it/s]\n"
     ]
    }
   ],
   "source": [
    "# evaluate popularity recommender\n",
    "pop = PopRecommender()\n",
    "pop.fit(train)\n",
    "results[\"pop\"] = evaluate(pop, test)"
   ]
  },
  {
   "cell_type": "code",
   "execution_count": 32,
   "id": "3cf67e52",
   "metadata": {},
   "outputs": [
    {
     "data": {
      "text/plain": [
       "{'AlternatingLeastSquares': 0.06067553661934336,\n",
       " 'BayesianPersonalizedRanking': 0.04531306398253903,\n",
       " 'LogisticMatrixFactorization': 0.03529014021898207,\n",
       " 'pop': 0.005180579675589556}"
      ]
     },
     "execution_count": 32,
     "metadata": {},
     "output_type": "execute_result"
    }
   ],
   "source": [
    "results"
   ]
  },
  {
   "cell_type": "code",
   "execution_count": 39,
   "id": "45947548",
   "metadata": {},
   "outputs": [
    {
     "data": {
      "text/plain": [
       "<AxesSubplot:>"
      ]
     },
     "execution_count": 39,
     "metadata": {},
     "output_type": "execute_result"
    },
    {
     "data": {
      "image/png": "[encoded data removed]",
      "text/plain": [
       "<Figure size 640x480 with 1 Axes>"
      ]
     },
     "metadata": {},
     "output_type": "display_data"
    }
   ],
   "source": [
    "sb.barplot(y = list(results.keys()), x =  list(results.values()), palette = \"Accent_r\")"
   ]
  }
 ],
 "metadata": {
  "kernelspec": {
   "display_name": "dp",
   "language": "python",
   "name": "dp"
  },
  "language_info": {
   "codemirror_mode": {
    "name": "ipython",
    "version": 3
   },
   "file_extension": ".py",
   "mimetype": "text/x-python",
   "name": "python",
   "nbconvert_exporter": "python",
   "pygments_lexer": "ipython3",
   "version": "3.9.12"
  }
 },
 "nbformat": 4,
 "nbformat_minor": 5
}
