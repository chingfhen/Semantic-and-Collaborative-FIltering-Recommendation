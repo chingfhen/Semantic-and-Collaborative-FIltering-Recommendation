{
 "cells": [
  {
   "cell_type": "code",
   "execution_count": null,
   "id": "0c17abc0",
   "metadata": {},
   "outputs": [],
   "source": [
    "from implicit.nearest_neighbours import bm25_weight\n",
    "\n",
    "# weight the matrix, both to reduce impact of users that have played the same artist thousands of times\n",
    "# and to reduce the weight given to popular items\n",
    "# artist_user_plays = bm25_weight(artist_user_plays, K1=100, B=0.8)\n",
    "\n",
    "# get the transpose since the most of the functions in implicit expect (user, item) sparse matrices instead of (item, user)\n",
    "user_plays = artist_user_plays.T.tocsr()"
   ]
  },
  {
   "cell_type": "markdown",
   "id": "4f89c68e",
   "metadata": {},
   "source": [
    "# CSR Matrix\n",
    "- convert Book Interaction Data into CSR Matrix\n",
    "- create class that performs id to index mapping, vice versa."
   ]
  },
  {
   "cell_type": "code",
   "execution_count": 2,
   "id": "7066b123",
   "metadata": {},
   "outputs": [],
   "source": [
    "import pandas as pd\n",
    "import numpy as np\n",
    "from scipy import sparse\n",
    "from pandas.api.types import CategoricalDtype\n",
    "\n",
    "def df2interact_mat(df, user_col, item_col, interact_col):\n",
    "    \"\"\"\n",
    "    Convert (user, item, interact) dataframe to sparse interaction matrix.\n",
    "    REF: https://docs.scipy.org/doc/scipy-0.14.0/reference/generated/scipy.sparse.csr_matrix.html\n",
    "    :param df: dataframe of (user, item, interact)\n",
    "    :param user_col: (string) user_id column name\n",
    "    :param item_col: (string) item_id column name\n",
    "    :param interact_col: (string) interaction column name\n",
    "    :return:\n",
    "        interaction_sparse: (csr) interaction matrix\n",
    "        users: (numpy array) user_id\n",
    "        items: (numpy array) item_id\n",
    "    \"\"\"\n",
    "    # Extract unique ids.\n",
    "    users = np.array(list(np.sort(\n",
    "        df[user_col].unique())))  # Get our unique users\n",
    "\n",
    "    items = np.array(list(\n",
    "        df[item_col].unique()))  # Get our unique items that were interacted with\n",
    "\n",
    "    interactions = list(\n",
    "        df[interact_col])  # All of our interactions\n",
    "\n",
    "    # Re-code user and item index for sparse matrix.\n",
    "    # Index starting from 0\n",
    "    rows = df[user_col].astype(CategoricalDtype(\n",
    "        categories=users)).cat.codes\n",
    "\n",
    "    cols = df[item_col].astype(CategoricalDtype(\n",
    "        categories=items)).cat.codes\n",
    "\n",
    "    # Construct sparse matrix.\n",
    "    # Get the associated column indices\n",
    "    interaction_sparse = sparse.csr_matrix(\n",
    "        (interactions, (rows, cols)), shape=(len(users), len(items))\n",
    "    )\n",
    "\n",
    "    return interaction_sparse, users, items\n",
    "\n",
    "class IDMAP(object):\n",
    "    \"\"\"\n",
    "    converts ids to indexes. vice versa.\n",
    "    args:\n",
    "        - entity_ids; list of real ids of the entities e.g item ids or user ids\n",
    "    \"\"\"\n",
    "    def __init__(self, entity_ids):\n",
    "        self.entity_ids = np.array(entity_ids)\n",
    "        self.id_to_index_map = {v:k for k,v in enumerate(entity_ids)}\n",
    "    def get_ids(self, indexes):\n",
    "        return self.entity_ids[indexes]\n",
    "    def get_indexes(self, ids):\n",
    "        return [self.id_to_index_map[i] for i in ids]"
   ]
  },
  {
   "cell_type": "code",
   "execution_count": 3,
   "id": "66f180de",
   "metadata": {
    "scrolled": true
   },
   "outputs": [
    {
     "data": {
      "text/plain": [
       "(105283, 340556, 1149780)"
      ]
     },
     "execution_count": 3,
     "metadata": {},
     "output_type": "execute_result"
    }
   ],
   "source": [
    "path = r\"C:\\Users\\tanch\\Documents\\NTU\\NTU Year 4\\Semester 1\\CZ4125 - Developing Data Products\\Assignments\\Team Assignment - book recommendation\\data\\Ratings.csv\\Ratings.csv\"\n",
    "data = pd.read_csv(path)\n",
    "len(data['User-ID'].unique()),len(data['ISBN'].unique()), len(data)"
   ]
  },
  {
   "cell_type": "code",
   "execution_count": 4,
   "id": "6498e77c",
   "metadata": {},
   "outputs": [],
   "source": [
    "interaction_sparse, users, items = df2interact_mat(df = data, user_col = 'User-ID', item_col = \"ISBN\", interact_col = \"Book-Rating\")"
   ]
  },
  {
   "cell_type": "code",
   "execution_count": 5,
   "id": "c53fb5c2",
   "metadata": {},
   "outputs": [
    {
     "name": "stdout",
     "output_type": "stream",
     "text": [
      "  (0, 8967)\t0\n"
     ]
    }
   ],
   "source": [
    "# get the interaction of the first user - the user interacted with 1 item, 8967\n",
    "print(interaction_sparse[0])"
   ]
  },
  {
   "cell_type": "code",
   "execution_count": 6,
   "id": "5e915ae9",
   "metadata": {
    "scrolled": true
   },
   "outputs": [
    {
     "data": {
      "text/plain": [
       "2"
      ]
     },
     "execution_count": 6,
     "metadata": {},
     "output_type": "execute_result"
    }
   ],
   "source": [
    "# get the actual id of the first user\n",
    "users[0]"
   ]
  },
  {
   "cell_type": "code",
   "execution_count": 7,
   "id": "06d41447",
   "metadata": {},
   "outputs": [
    {
     "data": {
      "text/plain": [
       "'0195153448'"
      ]
     },
     "execution_count": 7,
     "metadata": {},
     "output_type": "execute_result"
    }
   ],
   "source": [
    "# get actual id of the interacted \n",
    "items[8967]"
   ]
  },
  {
   "cell_type": "code",
   "execution_count": 8,
   "id": "19d08ffa",
   "metadata": {
    "scrolled": true
   },
   "outputs": [
    {
     "data": {
      "text/html": [
       "<div>\n",
       "<style scoped>\n",
       "    .dataframe tbody tr th:only-of-type {\n",
       "        vertical-align: middle;\n",
       "    }\n",
       "\n",
       "    .dataframe tbody tr th {\n",
       "        vertical-align: top;\n",
       "    }\n",
       "\n",
       "    .dataframe thead th {\n",
       "        text-align: right;\n",
       "    }\n",
       "</style>\n",
       "<table border=\"1\" class=\"dataframe\">\n",
       "  <thead>\n",
       "    <tr style=\"text-align: right;\">\n",
       "      <th></th>\n",
       "      <th>User-ID</th>\n",
       "      <th>ISBN</th>\n",
       "      <th>Book-Rating</th>\n",
       "    </tr>\n",
       "  </thead>\n",
       "  <tbody>\n",
       "    <tr>\n",
       "      <th>9561</th>\n",
       "      <td>2</td>\n",
       "      <td>0195153448</td>\n",
       "      <td>0</td>\n",
       "    </tr>\n",
       "  </tbody>\n",
       "</table>\n",
       "</div>"
      ],
      "text/plain": [
       "      User-ID        ISBN  Book-Rating\n",
       "9561        2  0195153448            0"
      ]
     },
     "execution_count": 8,
     "metadata": {},
     "output_type": "execute_result"
    }
   ],
   "source": [
    "# check that its correct - user 2 interacted with 0195153448 \n",
    "data[data['User-ID']==users[0]]"
   ]
  },
  {
   "cell_type": "markdown",
   "id": "7ee71b3f",
   "metadata": {},
   "source": [
    "# Alternating Least Squares Recommender\n",
    "- trained recommender model\n",
    "- recommend for user number 2"
   ]
  },
  {
   "cell_type": "code",
   "execution_count": 9,
   "id": "54d7b4ae",
   "metadata": {
    "scrolled": true
   },
   "outputs": [
    {
     "name": "stderr",
     "output_type": "stream",
     "text": [
      "C:\\Users\\tanch\\anaconda3\\envs\\dp\\lib\\site-packages\\tqdm\\auto.py:22: TqdmWarning: IProgress not found. Please update jupyter and ipywidgets. See https://ipywidgets.readthedocs.io/en/stable/user_install.html\n",
      "  from .autonotebook import tqdm as notebook_tqdm\n",
      " 20%|████████████████▌                                                                  | 3/15 [00:59<03:56, 19.68s/it]\n"
     ]
    },
    {
     "ename": "KeyboardInterrupt",
     "evalue": "",
     "output_type": "error",
     "traceback": [
      "\u001b[1;31m---------------------------------------------------------------------------\u001b[0m",
      "\u001b[1;31mKeyboardInterrupt\u001b[0m                         Traceback (most recent call last)",
      "Input \u001b[1;32mIn [9]\u001b[0m, in \u001b[0;36m<cell line: 13>\u001b[1;34m()\u001b[0m\n\u001b[0;32m      3\u001b[0m config_dict \u001b[38;5;241m=\u001b[39m {\n\u001b[0;32m      4\u001b[0m     \u001b[38;5;124m\"\u001b[39m\u001b[38;5;124mfactors\u001b[39m\u001b[38;5;124m\"\u001b[39m:\u001b[38;5;241m32\u001b[39m, \n\u001b[0;32m      5\u001b[0m     \u001b[38;5;124m\"\u001b[39m\u001b[38;5;124mregularization\u001b[39m\u001b[38;5;124m\"\u001b[39m:\u001b[38;5;241m0.05\u001b[39m, \n\u001b[1;32m   (...)\u001b[0m\n\u001b[0;32m      9\u001b[0m     \u001b[38;5;124m\"\u001b[39m\u001b[38;5;124mrandom_state\u001b[39m\u001b[38;5;124m\"\u001b[39m:\u001b[38;5;241m0\u001b[39m\n\u001b[0;32m     10\u001b[0m }\n\u001b[0;32m     12\u001b[0m model \u001b[38;5;241m=\u001b[39m AlternatingLeastSquares(\u001b[38;5;241m*\u001b[39m\u001b[38;5;241m*\u001b[39mconfig_dict)\n\u001b[1;32m---> 13\u001b[0m \u001b[43mmodel\u001b[49m\u001b[38;5;241;43m.\u001b[39;49m\u001b[43mfit\u001b[49m\u001b[43m(\u001b[49m\u001b[43minteraction_sparse\u001b[49m\u001b[43m)\u001b[49m\n\u001b[0;32m     14\u001b[0m model_path \u001b[38;5;241m=\u001b[39m \u001b[38;5;124mr\u001b[39m\u001b[38;5;124m\"\u001b[39m\u001b[38;5;124mC:\u001b[39m\u001b[38;5;124m\\\u001b[39m\u001b[38;5;124mUsers\u001b[39m\u001b[38;5;124m\\\u001b[39m\u001b[38;5;124mtanch\u001b[39m\u001b[38;5;124m\\\u001b[39m\u001b[38;5;124mDocuments\u001b[39m\u001b[38;5;124m\\\u001b[39m\u001b[38;5;124mNTU\u001b[39m\u001b[38;5;124m\\\u001b[39m\u001b[38;5;124mNTU Year 4\u001b[39m\u001b[38;5;124m\\\u001b[39m\u001b[38;5;124mSemester 1\u001b[39m\u001b[38;5;124m\\\u001b[39m\u001b[38;5;124mCZ4125 - Developing Data Products\u001b[39m\u001b[38;5;124m\\\u001b[39m\u001b[38;5;124mAssignments\u001b[39m\u001b[38;5;124m\\\u001b[39m\u001b[38;5;124mTeam Assignment - book recommendation\u001b[39m\u001b[38;5;124m\\\u001b[39m\u001b[38;5;124mcode\u001b[39m\u001b[38;5;124m\\\u001b[39m\u001b[38;5;124mmodels\u001b[39m\u001b[38;5;124m\\\u001b[39m\u001b[38;5;124mtest0\u001b[39m\u001b[38;5;124m\"\u001b[39m\n\u001b[0;32m     15\u001b[0m model\u001b[38;5;241m.\u001b[39msave(model_path)\n",
      "File \u001b[1;32m~\\anaconda3\\envs\\dp\\lib\\site-packages\\implicit\\cpu\\als.py:168\u001b[0m, in \u001b[0;36mAlternatingLeastSquares.fit\u001b[1;34m(self, user_items, show_progress)\u001b[0m\n\u001b[0;32m    160\u001b[0m s \u001b[38;5;241m=\u001b[39m time\u001b[38;5;241m.\u001b[39mtime()\n\u001b[0;32m    161\u001b[0m solver(\n\u001b[0;32m    162\u001b[0m     Cui,\n\u001b[0;32m    163\u001b[0m     \u001b[38;5;28mself\u001b[39m\u001b[38;5;241m.\u001b[39muser_factors,\n\u001b[1;32m   (...)\u001b[0m\n\u001b[0;32m    166\u001b[0m     num_threads\u001b[38;5;241m=\u001b[39m\u001b[38;5;28mself\u001b[39m\u001b[38;5;241m.\u001b[39mnum_threads,\n\u001b[0;32m    167\u001b[0m )\n\u001b[1;32m--> 168\u001b[0m \u001b[43msolver\u001b[49m\u001b[43m(\u001b[49m\n\u001b[0;32m    169\u001b[0m \u001b[43m    \u001b[49m\u001b[43mCiu\u001b[49m\u001b[43m,\u001b[49m\n\u001b[0;32m    170\u001b[0m \u001b[43m    \u001b[49m\u001b[38;5;28;43mself\u001b[39;49m\u001b[38;5;241;43m.\u001b[39;49m\u001b[43mitem_factors\u001b[49m\u001b[43m,\u001b[49m\n\u001b[0;32m    171\u001b[0m \u001b[43m    \u001b[49m\u001b[38;5;28;43mself\u001b[39;49m\u001b[38;5;241;43m.\u001b[39;49m\u001b[43muser_factors\u001b[49m\u001b[43m,\u001b[49m\n\u001b[0;32m    172\u001b[0m \u001b[43m    \u001b[49m\u001b[38;5;28;43mself\u001b[39;49m\u001b[38;5;241;43m.\u001b[39;49m\u001b[43mregularization\u001b[49m\u001b[43m,\u001b[49m\n\u001b[0;32m    173\u001b[0m \u001b[43m    \u001b[49m\u001b[43mnum_threads\u001b[49m\u001b[38;5;241;43m=\u001b[39;49m\u001b[38;5;28;43mself\u001b[39;49m\u001b[38;5;241;43m.\u001b[39;49m\u001b[43mnum_threads\u001b[49m\u001b[43m,\u001b[49m\n\u001b[0;32m    174\u001b[0m \u001b[43m\u001b[49m\u001b[43m)\u001b[49m\n\u001b[0;32m    175\u001b[0m progress\u001b[38;5;241m.\u001b[39mupdate(\u001b[38;5;241m1\u001b[39m)\n\u001b[0;32m    177\u001b[0m \u001b[38;5;28;01mif\u001b[39;00m \u001b[38;5;28mself\u001b[39m\u001b[38;5;241m.\u001b[39mcalculate_training_loss:\n",
      "\u001b[1;31mKeyboardInterrupt\u001b[0m: "
     ]
    }
   ],
   "source": [
    "from implicit.als import AlternatingLeastSquares\n",
    "\n",
    "config_dict = {\n",
    "    \"factors\":32, \n",
    "    \"regularization\":0.05, \n",
    "    \"alpha\":2.0, \n",
    "    \"iterations\" : 15,\n",
    "    \"calculate_training_loss\":False,\n",
    "    \"random_state\":0\n",
    "}\n",
    "\n",
    "model = AlternatingLeastSquares(**config_dict)\n",
    "model.fit(interaction_sparse)\n",
    "model_path = r\"C:\\Users\\tanch\\Documents\\NTU\\NTU Year 4\\Semester 1\\CZ4125 - Developing Data Products\\Assignments\\Team Assignment - book recommendation\\code\\models\\test0\"\n",
    "model.save(model_path)"
   ]
  },
  {
   "cell_type": "code",
   "execution_count": 10,
   "id": "44bc5ab6",
   "metadata": {},
   "outputs": [],
   "source": [
    "user_map = IDMAP(users)\n",
    "item_map = IDMAP(items)"
   ]
  },
  {
   "cell_type": "code",
   "execution_count": 11,
   "id": "978ce15b",
   "metadata": {
    "scrolled": true
   },
   "outputs": [
    {
     "data": {
      "text/plain": [
       "(array([1271, 3115, 1335, 1365, 1547, 2888, 2844, 1916,  641, 9976]),\n",
       " array([0.02153414, 0.01706984, 0.01696054, 0.01487165, 0.01333424,\n",
       "        0.01284255, 0.01150127, 0.01130138, 0.01101576, 0.01072625],\n",
       "       dtype=float32))"
      ]
     },
     "execution_count": 11,
     "metadata": {},
     "output_type": "execute_result"
    }
   ],
   "source": [
    "item_indexes, scores = model.recommend(2, interaction_sparse[2])\n",
    "item_indexes, scores"
   ]
  },
  {
   "cell_type": "code",
   "execution_count": 12,
   "id": "ba3a38de",
   "metadata": {},
   "outputs": [
    {
     "data": {
      "text/plain": [
       "array(['0452282152', '0440206154', '0679781587', '0312195516',\n",
       "       '0385486804', '0385492081', '0446672211', '0671027360',\n",
       "       '0446310786', '0060938455'], dtype='<U14')"
      ]
     },
     "execution_count": 12,
     "metadata": {},
     "output_type": "execute_result"
    }
   ],
   "source": [
    "# these are the actual recommended books\n",
    "item_map.get_ids(item_indexes)"
   ]
  },
  {
   "cell_type": "code",
   "execution_count": 13,
   "id": "1d338404",
   "metadata": {},
   "outputs": [
    {
     "data": {
      "text/html": [
       "<div>\n",
       "<style scoped>\n",
       "    .dataframe tbody tr th:only-of-type {\n",
       "        vertical-align: middle;\n",
       "    }\n",
       "\n",
       "    .dataframe tbody tr th {\n",
       "        vertical-align: top;\n",
       "    }\n",
       "\n",
       "    .dataframe thead th {\n",
       "        text-align: right;\n",
       "    }\n",
       "</style>\n",
       "<table border=\"1\" class=\"dataframe\">\n",
       "  <thead>\n",
       "    <tr style=\"text-align: right;\">\n",
       "      <th></th>\n",
       "      <th>User-ID</th>\n",
       "      <th>ISBN</th>\n",
       "      <th>Book-Rating</th>\n",
       "    </tr>\n",
       "  </thead>\n",
       "  <tbody>\n",
       "    <tr>\n",
       "      <th>625298</th>\n",
       "      <td>151702</td>\n",
       "      <td>0373700180</td>\n",
       "      <td>0</td>\n",
       "    </tr>\n",
       "    <tr>\n",
       "      <th>903379</th>\n",
       "      <td>218858</td>\n",
       "      <td>3442441382</td>\n",
       "      <td>6</td>\n",
       "    </tr>\n",
       "    <tr>\n",
       "      <th>168760</th>\n",
       "      <td>36836</td>\n",
       "      <td>0440060060</td>\n",
       "      <td>0</td>\n",
       "    </tr>\n",
       "    <tr>\n",
       "      <th>278490</th>\n",
       "      <td>65663</td>\n",
       "      <td>0446612545</td>\n",
       "      <td>0</td>\n",
       "    </tr>\n",
       "    <tr>\n",
       "      <th>738976</th>\n",
       "      <td>178522</td>\n",
       "      <td>0385497466</td>\n",
       "      <td>0</td>\n",
       "    </tr>\n",
       "    <tr>\n",
       "      <th>889906</th>\n",
       "      <td>214631</td>\n",
       "      <td>0786863137</td>\n",
       "      <td>7</td>\n",
       "    </tr>\n",
       "    <tr>\n",
       "      <th>1038001</th>\n",
       "      <td>248259</td>\n",
       "      <td>1575213052</td>\n",
       "      <td>10</td>\n",
       "    </tr>\n",
       "    <tr>\n",
       "      <th>106616</th>\n",
       "      <td>24462</td>\n",
       "      <td>8486311144</td>\n",
       "      <td>7</td>\n",
       "    </tr>\n",
       "    <tr>\n",
       "      <th>259516</th>\n",
       "      <td>60244</td>\n",
       "      <td>0064407055</td>\n",
       "      <td>8</td>\n",
       "    </tr>\n",
       "    <tr>\n",
       "      <th>430000</th>\n",
       "      <td>102705</td>\n",
       "      <td>0140257144</td>\n",
       "      <td>10</td>\n",
       "    </tr>\n",
       "  </tbody>\n",
       "</table>\n",
       "</div>"
      ],
      "text/plain": [
       "         User-ID        ISBN  Book-Rating\n",
       "625298    151702  0373700180            0\n",
       "903379    218858  3442441382            6\n",
       "168760     36836  0440060060            0\n",
       "278490     65663  0446612545            0\n",
       "738976    178522  0385497466            0\n",
       "889906    214631  0786863137            7\n",
       "1038001   248259  1575213052           10\n",
       "106616     24462  8486311144            7\n",
       "259516     60244  0064407055            8\n",
       "430000    102705  0140257144           10"
      ]
     },
     "execution_count": 13,
     "metadata": {},
     "output_type": "execute_result"
    }
   ],
   "source": [
    "data.sample(10)"
   ]
  },
  {
   "cell_type": "markdown",
   "id": "b855d44c",
   "metadata": {},
   "source": [
    "# Dataset processing\n",
    "- process dataset \n",
    "    - take only users with at least 10 interactions\n",
    "    - new interaction column, where are all ones (high ratings are given 2?) how does ALS work actually?\n",
    "    - train-test-valid split\n"
   ]
  },
  {
   "cell_type": "code",
   "execution_count": 14,
   "id": "611b334f",
   "metadata": {},
   "outputs": [],
   "source": [
    "import pandas as pd\n",
    "import numpy as np\n",
    "from scipy import sparse\n",
    "from pandas.api.types import CategoricalDtype\n",
    "\n",
    "def df2interact_mat(df, user_col, item_col, interact_col):\n",
    "    \"\"\"\n",
    "    Convert (user, item, interact) dataframe to sparse interaction matrix.\n",
    "    REF: https://docs.scipy.org/doc/scipy-0.14.0/reference/generated/scipy.sparse.csr_matrix.html\n",
    "    :param df: dataframe of (user, item, interact)\n",
    "    :param user_col: (string) user_id column name\n",
    "    :param item_col: (string) item_id column name\n",
    "    :param interact_col: (string) interaction column name\n",
    "    :return:\n",
    "        interaction_sparse: (csr) interaction matrix\n",
    "        users: (numpy array) user_id\n",
    "        items: (numpy array) item_id\n",
    "    \"\"\"\n",
    "    # Extract unique ids.\n",
    "    users = np.array(list(np.sort(\n",
    "        df[user_col].unique())))  # Get our unique users\n",
    "\n",
    "    items = np.array(list(\n",
    "        df[item_col].unique()))  # Get our unique items that were interacted with\n",
    "\n",
    "    interactions = list(\n",
    "        df[interact_col])  # All of our interactions\n",
    "\n",
    "    # Re-code user and item index for sparse matrix.\n",
    "    # Index starting from 0\n",
    "    rows = df[user_col].astype(CategoricalDtype(\n",
    "        categories=users)).cat.codes\n",
    "\n",
    "    cols = df[item_col].astype(CategoricalDtype(\n",
    "        categories=items)).cat.codes\n",
    "\n",
    "    # Construct sparse matrix.\n",
    "    # Get the associated column indices\n",
    "    interaction_sparse = sparse.csr_matrix(\n",
    "        (interactions, (rows, cols)), shape=(len(users), len(items))\n",
    "    )\n",
    "\n",
    "    return interaction_sparse, users, items\n",
    "\n",
    "class IDMAP(object):\n",
    "    \"\"\"\n",
    "    converts ids to indexes. vice versa.\n",
    "    args:\n",
    "        - entity_ids; list of real ids of the entities e.g item ids or user ids\n",
    "    \"\"\"\n",
    "    def __init__(self, entity_ids):\n",
    "        self.entity_ids = np.array(entity_ids)\n",
    "        self.id_to_index_map = {v:k for k,v in enumerate(entity_ids)}\n",
    "    def get_ids(self, indexes):\n",
    "        return self.entity_ids[indexes]\n",
    "    def get_indexes(self, ids):\n",
    "        return [self.id_to_index_map[i] for i in ids]"
   ]
  },
  {
   "cell_type": "code",
   "execution_count": 15,
   "id": "ce842464",
   "metadata": {
    "scrolled": true
   },
   "outputs": [
    {
     "data": {
      "text/plain": [
       "(105283, 340556, 1149780)"
      ]
     },
     "execution_count": 15,
     "metadata": {},
     "output_type": "execute_result"
    }
   ],
   "source": [
    "path = r\"C:\\Users\\tanch\\Documents\\NTU\\NTU Year 4\\Semester 1\\CZ4125 - Developing Data Products\\Assignments\\Team Assignment - book recommendation\\data\\Ratings.csv\\Ratings.csv\"\n",
    "data = pd.read_csv(path)\n",
    "len(data['User-ID'].unique()),len(data['ISBN'].unique()), len(data)"
   ]
  },
  {
   "cell_type": "code",
   "execution_count": 65,
   "id": "765c8fc5",
   "metadata": {},
   "outputs": [
    {
     "data": {
      "image/png": "[encoded data removed]",
      "text/plain": [
       "<Figure size 640x480 with 1 Axes>"
      ]
     },
     "metadata": {},
     "output_type": "display_data"
    }
   ],
   "source": [
    "import seaborn as sb\n",
    "def plot_num_interactions(df, main_col, sub_col):\n",
    "    num_interactions_df = df.groupby(main_col).count().sort_values(by = sub_col, ascending = False)\n",
    "    num_interactions_df['temp_id'] = range(len(num_interactions_df))\n",
    "    num_interactions_df = num_interactions_df.reset_index()\n",
    "    sb.scatterplot(data=num_interactions_df[100:100000] , x = \"temp_id\", y = sub_col)\n",
    "plot_num_interactions(data, \"ISBN\", \"User-ID\")"
   ]
  },
  {
   "cell_type": "code",
   "execution_count": 64,
   "id": "f984f2bb",
   "metadata": {},
   "outputs": [
    {
     "data": {
      "image/png": "[encoded data removed]",
      "text/plain": [
       "<Figure size 640x480 with 1 Axes>"
      ]
     },
     "metadata": {},
     "output_type": "display_data"
    }
   ],
   "source": [
    "plot_num_interactions(data, \"User-ID\", \"ISBN\")"
   ]
  },
  {
   "cell_type": "code",
   "execution_count": 55,
   "id": "27e0fd51",
   "metadata": {
    "scrolled": true
   },
   "outputs": [],
   "source": [
    "# all samples below minimum_interaction are removed\n",
    "def filter_by_num_interactions(df, main_col, sub_col, minimum_interaction = 5):\n",
    "    temp_df = df.groupby(main_col).count().reset_index()\n",
    "    temp_df['num_interactions'] = temp_df[sub_col]\n",
    "    temp_df = temp_df[[main_col, \"num_interactions\"]]\n",
    "    df = df.merge(temp_df, on = main_col)\n",
    "    df = df[df['num_interactions'] >= minimum_interaction].reset_index(drop = True)\n",
    "    return df.iloc[:,:-1]"
   ]
  },
  {
   "cell_type": "code",
   "execution_count": 56,
   "id": "f026ea77",
   "metadata": {},
   "outputs": [
    {
     "data": {
      "text/html": [
       "<div>\n",
       "<style scoped>\n",
       "    .dataframe tbody tr th:only-of-type {\n",
       "        vertical-align: middle;\n",
       "    }\n",
       "\n",
       "    .dataframe tbody tr th {\n",
       "        vertical-align: top;\n",
       "    }\n",
       "\n",
       "    .dataframe thead th {\n",
       "        text-align: right;\n",
       "    }\n",
       "</style>\n",
       "<table border=\"1\" class=\"dataframe\">\n",
       "  <thead>\n",
       "    <tr style=\"text-align: right;\">\n",
       "      <th></th>\n",
       "      <th>User-ID</th>\n",
       "      <th>ISBN</th>\n",
       "      <th>Book-Rating</th>\n",
       "    </tr>\n",
       "  </thead>\n",
       "  <tbody>\n",
       "    <tr>\n",
       "      <th>0</th>\n",
       "      <td>276746</td>\n",
       "      <td>0425115801</td>\n",
       "      <td>0</td>\n",
       "    </tr>\n",
       "    <tr>\n",
       "      <th>1</th>\n",
       "      <td>276746</td>\n",
       "      <td>0449006522</td>\n",
       "      <td>0</td>\n",
       "    </tr>\n",
       "    <tr>\n",
       "      <th>2</th>\n",
       "      <td>276746</td>\n",
       "      <td>0553561618</td>\n",
       "      <td>0</td>\n",
       "    </tr>\n",
       "    <tr>\n",
       "      <th>3</th>\n",
       "      <td>276746</td>\n",
       "      <td>055356451X</td>\n",
       "      <td>0</td>\n",
       "    </tr>\n",
       "    <tr>\n",
       "      <th>4</th>\n",
       "      <td>276746</td>\n",
       "      <td>0786013990</td>\n",
       "      <td>0</td>\n",
       "    </tr>\n",
       "  </tbody>\n",
       "</table>\n",
       "</div>"
      ],
      "text/plain": [
       "   User-ID        ISBN  Book-Rating\n",
       "0   276746  0425115801            0\n",
       "1   276746  0449006522            0\n",
       "2   276746  0553561618            0\n",
       "3   276746  055356451X            0\n",
       "4   276746  0786013990            0"
      ]
     },
     "execution_count": 56,
     "metadata": {},
     "output_type": "execute_result"
    }
   ],
   "source": [
    "processed_data = filter_by_num_interactions(data, \"User-ID\", \"ISBN\", 5)\n",
    "processed_data = filter_by_num_interactions(processed_data, \"ISBN\", \"User-ID\", 5)\n",
    "processed_data.head()"
   ]
  },
  {
   "cell_type": "code",
   "execution_count": 60,
   "id": "f48d6e50",
   "metadata": {},
   "outputs": [
    {
     "data": {
      "text/plain": [
       "(1149780, 608766)"
      ]
     },
     "execution_count": 60,
     "metadata": {},
     "output_type": "execute_result"
    }
   ],
   "source": [
    "len(data),len(processed_data)"
   ]
  },
  {
   "cell_type": "code",
   "execution_count": 19,
   "id": "1f62e06b",
   "metadata": {},
   "outputs": [
    {
     "data": {
      "text/plain": [
       "(716109, 433671)"
      ]
     },
     "execution_count": 19,
     "metadata": {},
     "output_type": "execute_result"
    }
   ],
   "source": [
    "# number of implicit interactions, number of explicit ratings\n",
    "sum(data['Book-Rating']==0),sum(data['Book-Rating']>0)"
   ]
  },
  {
   "cell_type": "code",
   "execution_count": 61,
   "id": "1e1b05ba",
   "metadata": {},
   "outputs": [],
   "source": [
    "# the column contains all ones\n",
    "def add_interaction_column(df):\n",
    "    df['interaction'] = 1\n",
    "    return df"
   ]
  },
  {
   "cell_type": "code",
   "execution_count": 62,
   "id": "8630e49d",
   "metadata": {},
   "outputs": [
    {
     "data": {
      "text/html": [
       "<div>\n",
       "<style scoped>\n",
       "    .dataframe tbody tr th:only-of-type {\n",
       "        vertical-align: middle;\n",
       "    }\n",
       "\n",
       "    .dataframe tbody tr th {\n",
       "        vertical-align: top;\n",
       "    }\n",
       "\n",
       "    .dataframe thead th {\n",
       "        text-align: right;\n",
       "    }\n",
       "</style>\n",
       "<table border=\"1\" class=\"dataframe\">\n",
       "  <thead>\n",
       "    <tr style=\"text-align: right;\">\n",
       "      <th></th>\n",
       "      <th>User-ID</th>\n",
       "      <th>ISBN</th>\n",
       "      <th>Book-Rating</th>\n",
       "      <th>interaction</th>\n",
       "    </tr>\n",
       "  </thead>\n",
       "  <tbody>\n",
       "    <tr>\n",
       "      <th>0</th>\n",
       "      <td>276746</td>\n",
       "      <td>0425115801</td>\n",
       "      <td>0</td>\n",
       "      <td>1</td>\n",
       "    </tr>\n",
       "    <tr>\n",
       "      <th>1</th>\n",
       "      <td>277427</td>\n",
       "      <td>0425115801</td>\n",
       "      <td>0</td>\n",
       "      <td>1</td>\n",
       "    </tr>\n",
       "    <tr>\n",
       "      <th>2</th>\n",
       "      <td>1660</td>\n",
       "      <td>0425115801</td>\n",
       "      <td>0</td>\n",
       "      <td>1</td>\n",
       "    </tr>\n",
       "    <tr>\n",
       "      <th>3</th>\n",
       "      <td>2288</td>\n",
       "      <td>0425115801</td>\n",
       "      <td>10</td>\n",
       "      <td>1</td>\n",
       "    </tr>\n",
       "    <tr>\n",
       "      <th>4</th>\n",
       "      <td>4938</td>\n",
       "      <td>0425115801</td>\n",
       "      <td>9</td>\n",
       "      <td>1</td>\n",
       "    </tr>\n",
       "  </tbody>\n",
       "</table>\n",
       "</div>"
      ],
      "text/plain": [
       "   User-ID        ISBN  Book-Rating  interaction\n",
       "0   276746  0425115801            0            1\n",
       "1   277427  0425115801            0            1\n",
       "2     1660  0425115801            0            1\n",
       "3     2288  0425115801           10            1\n",
       "4     4938  0425115801            9            1"
      ]
     },
     "execution_count": 62,
     "metadata": {},
     "output_type": "execute_result"
    }
   ],
   "source": [
    "processed_data = add_interaction_column(processed_data)\n",
    "processed_data.head()"
   ]
  },
  {
   "cell_type": "code",
   "execution_count": 22,
   "id": "64fbf6fb",
   "metadata": {},
   "outputs": [],
   "source": [
    "def train_test_split(df, train_frac = 0.9, seed = 0):\n",
    "    df = df.sample(frac = 1, random_state = seed)\n",
    "    train_end_index = int(train_frac*len(df))\n",
    "    train, test = df[:train_end_index], df[train_end_index:]\n",
    "    return train, test"
   ]
  },
  {
   "cell_type": "code",
   "execution_count": 23,
   "id": "01f1e0b9",
   "metadata": {},
   "outputs": [
    {
     "data": {
      "text/plain": [
       "(869141, 96572)"
      ]
     },
     "execution_count": 23,
     "metadata": {},
     "output_type": "execute_result"
    }
   ],
   "source": [
    "train, test = train_test_split(processed_data)\n",
    "len(train), len(test)"
   ]
  },
  {
   "cell_type": "markdown",
   "id": "7e107e4e",
   "metadata": {},
   "source": [
    "# Retraining\n",
    "- remove users and items with less than 10 interactions\n",
    "- add interaction column i.e column with all ones\n",
    "- convert interaction data into csr matrix\n",
    "- split into train-test set"
   ]
  },
  {
   "cell_type": "code",
   "execution_count": 11,
   "id": "c1f6c32c",
   "metadata": {},
   "outputs": [],
   "source": [
    "import pandas as pd\n",
    "import numpy as np\n",
    "from scipy import sparse\n",
    "from pandas.api.types import CategoricalDtype\n",
    "from implicit.als import AlternatingLeastSquares\n",
    "from tqdm import tqdm\n",
    "from random import sample\n",
    "import pickle\n",
    "\n",
    "def df2interact_mat(df, user_col, item_col, interact_col):\n",
    "    \"\"\"\n",
    "    Convert (user, item, interact) dataframe to sparse interaction matrix.\n",
    "    REF: https://docs.scipy.org/doc/scipy-0.14.0/reference/generated/scipy.sparse.csr_matrix.html\n",
    "    :param df: dataframe of (user, item, interact)\n",
    "    :param user_col: (string) user_id column name\n",
    "    :param item_col: (string) item_id column name\n",
    "    :param interact_col: (string) interaction column name\n",
    "    :return:\n",
    "        interaction_sparse: (csr) interaction matrix\n",
    "        users: (numpy array) user_id\n",
    "        items: (numpy array) item_id\n",
    "    \"\"\"\n",
    "    # Extract unique ids.\n",
    "    users = np.array(list(np.sort(\n",
    "        df[user_col].unique())))  # Get our unique users\n",
    "\n",
    "    items = np.array(list(\n",
    "        df[item_col].unique()))  # Get our unique items that were interacted with\n",
    "\n",
    "    interactions = list(\n",
    "        df[interact_col])  # All of our interactions\n",
    "\n",
    "    # Re-code user and item index for sparse matrix.\n",
    "    # Index starting from 0\n",
    "    rows = df[user_col].astype(CategoricalDtype(\n",
    "        categories=users)).cat.codes\n",
    "\n",
    "    cols = df[item_col].astype(CategoricalDtype(\n",
    "        categories=items)).cat.codes\n",
    "\n",
    "    # Construct sparse matrix.\n",
    "    # Get the associated column indices\n",
    "    interaction_sparse = sparse.csr_matrix(\n",
    "        (interactions, (rows, cols)), shape=(len(users), len(items))\n",
    "    )\n",
    "\n",
    "    return interaction_sparse, users, items\n",
    "\n",
    "class IDMAP(object):\n",
    "    \"\"\"\n",
    "    converts ids to indexes. vice versa.\n",
    "    args:\n",
    "        - entity_ids; list of real ids of the entities e.g item ids or user ids\n",
    "    \"\"\"\n",
    "    def __init__(self, entity_ids):\n",
    "        self.entity_ids = np.array(entity_ids)\n",
    "        self.id_to_index_map = {v:k for k,v in enumerate(entity_ids)}\n",
    "    def get_ids(self, indexes):\n",
    "        return self.entity_ids[indexes]\n",
    "    def get_indexes(self, ids):\n",
    "        return [self.id_to_index_map[i] for i in ids]\n",
    "    \n",
    "# all samples below minimum_interaction are removed\n",
    "def filter_by_num_interactions(df, main_col, sub_col, minimum_interaction = 5):\n",
    "    temp_df = df.groupby(main_col).count().reset_index()\n",
    "    temp_df['num_interactions'] = temp_df[sub_col]\n",
    "    temp_df = temp_df[[main_col, \"num_interactions\"]]\n",
    "    df = df.merge(temp_df, on = main_col)\n",
    "    df = df[df['num_interactions'] >= minimum_interaction].reset_index(drop = True)\n",
    "    return df.iloc[:,:-1]\n",
    "\n",
    "# the column contains all ones\n",
    "def add_interaction_column(df):\n",
    "    df['interaction'] = 1\n",
    "    return df\n",
    "\n",
    "def train_test_split(df, train_frac = 0.9, seed = 0):\n",
    "    df = df.sample(frac = 1, random_state = seed)\n",
    "    train_end_index = int(train_frac*len(df))\n",
    "    train, test = df[:train_end_index], df[train_end_index:]\n",
    "    return train, test\n",
    "\n",
    "class BaseRecommender(object):\n",
    "    def fit(self):\n",
    "        raise NotImplementedError\n",
    "    def recommend(self):\n",
    "        raise NotImplementedError\n",
    "        \n",
    "class ALSRecommender(BaseRecommender):\n",
    "    def __init__(self, config_dict, train_csr, user_map, item_map):\n",
    "        \n",
    "        self.config_dict = config_dict\n",
    "        self.model = AlternatingLeastSquares(**self.config_dict)\n",
    "        self.train_csr = train_csr\n",
    "        self.user_map = user_map\n",
    "        self.item_map = item_map\n",
    "        super(ALSRecommender, self).__init__()\n",
    "        \n",
    "    def fit(self):\n",
    "        self.model.fit(self.train_csr)\n",
    "    def recommend(self, user_id, num_rec = 20, filtered_item_ids = []):\n",
    "        user_index = self.user_map.get_indexes([user_id])[0]\n",
    "        filtered_item_indexes = self.item_map.get_indexes(filtered_item_ids)\n",
    "        recommended_items_index, scores = self.model.recommend(user_index, self.train_csr[user_index], num_rec, filter_items = filtered_item_indexes)\n",
    "        recommended_item_ids = self.item_map.get_ids(recommended_items_index)\n",
    "        return recommended_item_ids\n",
    "    \n",
    "        \n",
    "    def load(self, path):\n",
    "        self.model = self.model.load(path)\n",
    "    def save(self, path):\n",
    "        self.model.save(path)\n",
    "        \n",
    "\n",
    "         \n",
    "# evaluate model over n samples from test set \n",
    "def evaluate(model, test_set, n = 1000, num_rec = 20):\n",
    "    total_recall = 0 \n",
    "    test_users = sample(test_set['User-ID'].unique().tolist(), n)\n",
    "    for user_id in tqdm(test_users):\n",
    "        ground_truth_item_ids = test_set.loc[test_set['User-ID']==user_id,\"ISBN\"].values.tolist()\n",
    "        total_recall += evaluate_user(model, user_id, ground_truth_item_ids, num_rec)\n",
    "    return total_recall/n\n",
    "   \n",
    "# evaluate model on 1 user\n",
    "def evaluate_user(model, user_id, ground_truth_item_ids, num_rec = 20):\n",
    "    # recommend items\n",
    "    recommended_item_ids = model.recommend(user_id, num_rec)\n",
    "    # compute metric \n",
    "    recall = compute_recall(ground_truth_item_ids, recommended_item_ids)\n",
    "    return recall\n",
    "\n",
    "# compute recall - fraction of recommended items that were relevant\n",
    "def compute_recall(actual_items, predicted_items):\n",
    "    actual_set = set(actual_items)\n",
    "    predicted_set = set(predicted_items)\n",
    "    return len(actual_set & predicted_set)/len(actual_set)\n",
    "\n",
    "class PopRecommender(BaseRecommender):\n",
    "    def fit(self, train):\n",
    "        self.train = train\n",
    "        self.memory = train.ISBN.value_counts().keys().tolist()\n",
    "    def recommend(self, user_id, num_rec = 20, filtered_item_ids = []):\n",
    "        remove_item_ids = self._get_user_liked_item_ids(user_id)\n",
    "        remove_item_ids += filtered_item_ids\n",
    "        candidates = self.memory\n",
    "        for item_id in remove_item_ids:\n",
    "            if item_id in candidates: \n",
    "                candidates.remove(item_id)\n",
    "        return candidates[:num_rec]\n",
    "        \n",
    "    def _get_user_liked_item_ids(self, user_id):\n",
    "        return self.train[self.train['User-ID'] == user_id].ISBN.tolist()\n",
    "    \n",
    "#     def save(self, path):\n",
    "#         with open(path, \"wb\") as f:\n",
    "#             pickle.dump(self.memory, f)\n",
    "#     def load(self, path):\n",
    "#         with open(path, \"rb\") as f:\n",
    "#             self.memory = pickle.load(f)"
   ]
  },
  {
   "cell_type": "code",
   "execution_count": 5,
   "id": "b0639790",
   "metadata": {
    "scrolled": true
   },
   "outputs": [],
   "source": [
    "path = r\"C:\\Users\\tanch\\Documents\\NTU\\NTU Year 4\\Semester 1\\CZ4125 - Developing Data Products\\Assignments\\Team Assignment - book recommendation\\data\\Ratings.csv\\Ratings.csv\"\n",
    "data = pd.read_csv(path)\n",
    "\n",
    "# remove samples with less than minimum_interaction\n",
    "processed_data = filter_by_num_interactions(data, \"User-ID\", \"ISBN\", minimum_interaction = 10)\n",
    "processed_data = filter_by_num_interactions(processed_data, \"ISBN\", \"User-ID\", minimum_interaction = 10)\n",
    "processed_data = filter_by_num_interactions(processed_data, \"User-ID\", \"ISBN\", minimum_interaction = 10)\n",
    "processed_data = filter_by_num_interactions(processed_data, \"ISBN\", \"User-ID\", minimum_interaction = 10)\n",
    "# add column containing all ones\n",
    "processed_data = add_interaction_column(processed_data)\n",
    "# train_test_split\n",
    "train, test = train_test_split(processed_data, train_frac = 0.7, seed = 0)\n",
    "# convert to csr interaction matrix i.e input to model\n",
    "train_csr, users, items = df2interact_mat(df = train, user_col = 'User-ID', item_col = \"ISBN\", interact_col = \"interaction\")\n",
    "# retain a mapping between userids, itemids and their indexes in the recommender model\n",
    "user_map = IDMAP(users)\n",
    "item_map = IDMAP(items)"
   ]
  },
  {
   "cell_type": "code",
   "execution_count": 4,
   "id": "6ca61d00",
   "metadata": {},
   "outputs": [],
   "source": [
    "model_path = r\"C:\\Users\\tanch\\Documents\\NTU\\NTU Year 4\\Semester 1\\CZ4125 - Developing Data Products\\Assignments\\Team Assignment - book recommendation\\code\\models\\test0\"\n",
    "config_dict = {\n",
    "    \"factors\":64, \n",
    "    \"regularization\":0.01, \n",
    "    \"alpha\":1.0, \n",
    "    \"iterations\" : 20,\n",
    "    \"calculate_training_loss\":True,\n",
    "    \"random_state\":0\n",
    "}"
   ]
  },
  {
   "cell_type": "code",
   "execution_count": 6,
   "id": "d839470f",
   "metadata": {},
   "outputs": [
    {
     "name": "stderr",
     "output_type": "stream",
     "text": [
      "100%|████████████████████████████████████████████████████████████████████| 20/20 [00:17<00:00,  1.11it/s, loss=0.00218]\n"
     ]
    }
   ],
   "source": [
    "# train model\n",
    "model = ALSRecommender(config_dict, train_csr, user_map, item_map)\n",
    "model.fit()\n",
    "# save model\n",
    "model.save(model_path)"
   ]
  },
  {
   "cell_type": "code",
   "execution_count": 8,
   "id": "d78a74e1",
   "metadata": {},
   "outputs": [
    {
     "name": "stderr",
     "output_type": "stream",
     "text": [
      "C:\\Users\\tanch\\anaconda3\\envs\\dp\\lib\\site-packages\\tqdm\\auto.py:22: TqdmWarning: IProgress not found. Please update jupyter and ipywidgets. See https://ipywidgets.readthedocs.io/en/stable/user_install.html\n",
      "  from .autonotebook import tqdm as notebook_tqdm\n"
     ]
    }
   ],
   "source": [
    "# load model\n",
    "model = ALSRecommender(config_dict, interaction_sparse, user_map, item_map)\n",
    "model = model.load(model_path)"
   ]
  },
  {
   "cell_type": "code",
   "execution_count": 12,
   "id": "25192de6",
   "metadata": {},
   "outputs": [
    {
     "name": "stderr",
     "output_type": "stream",
     "text": [
      "100%|█████████████████████████████████████████████████████████████████████████████| 1000/1000 [00:01<00:00, 927.70it/s]\n"
     ]
    },
    {
     "data": {
      "text/plain": [
       "0.06723219848735178"
      ]
     },
     "execution_count": 12,
     "metadata": {},
     "output_type": "execute_result"
    }
   ],
   "source": [
    "evaluate(model, test)"
   ]
  },
  {
   "cell_type": "code",
   "execution_count": 19,
   "id": "a3735b7c",
   "metadata": {},
   "outputs": [
    {
     "data": {
      "text/plain": [
       "13841"
      ]
     },
     "execution_count": 19,
     "metadata": {},
     "output_type": "execute_result"
    }
   ],
   "source": [
    "items_sorted_by_popularity = train.ISBN.value_counts().keys().tolist()\n",
    "\n",
    "len(items_sorted_by_popularity)"
   ]
  },
  {
   "cell_type": "code",
   "execution_count": 64,
   "id": "96deea5c",
   "metadata": {},
   "outputs": [],
   "source": []
  },
  {
   "cell_type": "code",
   "execution_count": 65,
   "id": "3e406cd1",
   "metadata": {},
   "outputs": [],
   "source": [
    "pop = PopRecommender()\n",
    "pop.fit(train)"
   ]
  },
  {
   "cell_type": "code",
   "execution_count": 66,
   "id": "7aa7af85",
   "metadata": {},
   "outputs": [
    {
     "name": "stderr",
     "output_type": "stream",
     "text": [
      "100%|█████████████████████████████████████████████████████████████████████████████| 1000/1000 [00:06<00:00, 150.50it/s]\n"
     ]
    },
    {
     "data": {
      "text/plain": [
       "0.0057440578134798055"
      ]
     },
     "execution_count": 66,
     "metadata": {},
     "output_type": "execute_result"
    }
   ],
   "source": [
    "evaluate(pop, test)"
   ]
  },
  {
   "cell_type": "code",
   "execution_count": null,
   "id": "6b900077",
   "metadata": {},
   "outputs": [],
   "source": []
  },
  {
   "cell_type": "code",
   "execution_count": null,
   "id": "aa669c86",
   "metadata": {},
   "outputs": [],
   "source": []
  },
  {
   "cell_type": "code",
   "execution_count": null,
   "id": "84511d4a",
   "metadata": {},
   "outputs": [],
   "source": []
  }
 ],
 "metadata": {
  "kernelspec": {
   "display_name": "dp",
   "language": "python",
   "name": "dp"
  },
  "language_info": {
   "codemirror_mode": {
    "name": "ipython",
    "version": 3
   },
   "file_extension": ".py",
   "mimetype": "text/x-python",
   "name": "python",
   "nbconvert_exporter": "python",
   "pygments_lexer": "ipython3",
   "version": "3.9.12"
  }
 },
 "nbformat": 4,
 "nbformat_minor": 5
}
