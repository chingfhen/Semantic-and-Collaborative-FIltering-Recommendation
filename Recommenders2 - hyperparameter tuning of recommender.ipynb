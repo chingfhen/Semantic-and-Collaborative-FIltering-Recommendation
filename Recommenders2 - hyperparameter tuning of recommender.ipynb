{
 "cells": [
  {
   "cell_type": "code",
   "execution_count": 9,
   "id": "a45bf068",
   "metadata": {},
   "outputs": [],
   "source": [
    "from models import ALSRecommender, PopRecommender\n",
    "from evaluation import evaluate\n",
    "from processing import *\n",
    "from utils import IDMAP\n",
    "import pandas as pd\n",
    "import seaborn as sb"
   ]
  },
  {
   "cell_type": "markdown",
   "id": "fd96d68a",
   "metadata": {},
   "source": [
    "### process"
   ]
  },
  {
   "cell_type": "code",
   "execution_count": 10,
   "id": "9ae5578d",
   "metadata": {},
   "outputs": [],
   "source": [
    "path = r\"C:\\Users\\tanch\\Documents\\NTU\\NTU Year 4\\Semester 1\\CZ4125 - Developing Data Products\\Assignments\\Team Assignment - book recommendation\\data\\Ratings.csv\\Ratings.csv\"\n",
    "data = pd.read_csv(path)\n",
    "\n",
    "# remove samples with less than minimum_interaction\n",
    "processed_data = filter_by_num_interactions(data, \"User-ID\", \"ISBN\", minimum_interaction = 10)\n",
    "processed_data = filter_by_num_interactions(processed_data, \"ISBN\", \"User-ID\", minimum_interaction = 10)\n",
    "processed_data = filter_by_num_interactions(processed_data, \"User-ID\", \"ISBN\", minimum_interaction = 10)\n",
    "processed_data = filter_by_num_interactions(processed_data, \"ISBN\", \"User-ID\", minimum_interaction = 10)\n",
    "# add column containing all ones\n",
    "processed_data = add_interaction_column(processed_data)\n",
    "# train_test_split\n",
    "train, test = train_test_split(processed_data, train_frac = 0.7, seed = 0)\n",
    "# convert to csr interaction matrix i.e input to model\n",
    "train_csr, users, items = df2interact_mat(df = train, user_col = 'User-ID', item_col = \"ISBN\", interact_col = \"interaction\")\n",
    "# retain a mapping between userids, itemids and their indexes in the recommender model\n",
    "user_map = IDMAP(users)\n",
    "item_map = IDMAP(items)"
   ]
  },
  {
   "cell_type": "code",
   "execution_count": 7,
   "id": "8d1812a1",
   "metadata": {},
   "outputs": [],
   "source": [
    "model_path = r\"C:\\Users\\tanch\\Documents\\NTU\\NTU Year 4\\Semester 1\\CZ4125 - Developing Data Products\\Assignments\\Team Assignment - book recommendation\\code\\models\\test0\"\n",
    "config_dict = {\n",
    "    \"factors\":64, \n",
    "    \"regularization\":0.01, \n",
    "    \"alpha\":1.0, \n",
    "    \"iterations\" : 20,\n",
    "    \"calculate_training_loss\":True,\n",
    "    \"random_state\":0\n",
    "}\n",
    "model_name = \"AlternatingLeastSquares\""
   ]
  },
  {
   "cell_type": "markdown",
   "id": "28fe2237",
   "metadata": {},
   "source": [
    "### tune alpha"
   ]
  },
  {
   "cell_type": "code",
   "execution_count": 8,
   "id": "9638d354",
   "metadata": {},
   "outputs": [
    {
     "name": "stderr",
     "output_type": "stream",
     "text": [
      "C:\\Users\\tanch\\anaconda3\\envs\\dp\\lib\\site-packages\\implicit\\utils.py:33: UserWarning: Intel MKL BLAS detected. Its highly recommend to set the environment variable 'export MKL_NUM_THREADS=1' to disable its internal multithreading\n",
      "  warnings.warn(\n",
      "100%|███████████████████████████████████████████████████████████████████| 20/20 [00:17<00:00,  1.15it/s, loss=0.000229]\n",
      "100%|████████████████████████████████████████████████████████████████████████████| 1000/1000 [00:00<00:00, 1146.50it/s]\n",
      "100%|████████████████████████████████████████████████████████████████████| 20/20 [00:17<00:00,  1.13it/s, loss=0.00112]\n",
      "100%|████████████████████████████████████████████████████████████████████████████| 1000/1000 [00:00<00:00, 1297.11it/s]\n",
      "100%|████████████████████████████████████████████████████████████████████| 20/20 [00:17<00:00,  1.16it/s, loss=0.00218]\n",
      "100%|████████████████████████████████████████████████████████████████████████████| 1000/1000 [00:00<00:00, 1209.25it/s]\n",
      "100%|████████████████████████████████████████████████████████████████████| 20/20 [00:17<00:00,  1.12it/s, loss=0.00314]\n",
      "100%|█████████████████████████████████████████████████████████████████████████████| 1000/1000 [00:01<00:00, 879.90it/s]\n",
      "100%|████████████████████████████████████████████████████████████████████| 20/20 [00:18<00:00,  1.06it/s, loss=0.00403]\n",
      "100%|████████████████████████████████████████████████████████████████████████████| 1000/1000 [00:00<00:00, 1281.47it/s]\n",
      "100%|████████████████████████████████████████████████████████████████████| 20/20 [00:17<00:00,  1.14it/s, loss=0.00841]\n",
      "100%|████████████████████████████████████████████████████████████████████████████| 1000/1000 [00:00<00:00, 1268.75it/s]\n",
      "100%|█████████████████████████████████████████████████████████████████████| 20/20 [00:18<00:00,  1.11it/s, loss=0.0136]\n",
      "100%|████████████████████████████████████████████████████████████████████████████| 1000/1000 [00:00<00:00, 1271.97it/s]\n"
     ]
    }
   ],
   "source": [
    "alpha_values = [0.1,0.5,1.0,1.5,2.0,3.0,4.0,5.0,6.0,7.0,8.0,9.0,10.0]\n",
    "results = {}\n",
    "for alpha in alpha_values:\n",
    "    config_dict[\"alpha\"] = alpha\n",
    "    # train \n",
    "    model = ALSRecommender(model_name, config_dict, train_csr, user_map, item_map)\n",
    "    model.fit()\n",
    "    # evaluate\n",
    "    results[f\"alpha_{alpha}\"] = evaluate(model, test)"
   ]
  },
  {
   "cell_type": "code",
   "execution_count": 23,
   "id": "acac1a17",
   "metadata": {},
   "outputs": [
    {
     "name": "stderr",
     "output_type": "stream",
     "text": [
      "100%|████████████████████████████████████████████████████████████████████| 20/20 [00:18<00:00,  1.10it/s, loss=0.00565]\n",
      "100%|█████████████████████████████████████████████████████████████████████████████| 1000/1000 [00:01<00:00, 909.32it/s]\n",
      "100%|████████████████████████████████████████████████████████████████████| 20/20 [00:18<00:00,  1.05it/s, loss=0.00709]\n",
      "100%|████████████████████████████████████████████████████████████████████████████| 1000/1000 [00:00<00:00, 1001.93it/s]\n"
     ]
    }
   ],
   "source": [
    "alpha_values = [3.0,4.0]\n",
    "for alpha in alpha_values:\n",
    "    config_dict[\"alpha\"] = alpha\n",
    "    # train \n",
    "    model = ALSRecommender(model_name, config_dict, train_csr, user_map, item_map)\n",
    "    model.fit()\n",
    "    # evaluate\n",
    "    results[f\"alpha_{alpha}\"] = evaluate(model, test)"
   ]
  },
  {
   "cell_type": "code",
   "execution_count": 24,
   "id": "b451e9cb",
   "metadata": {},
   "outputs": [
    {
     "data": {
      "text/plain": [
       "{'alpha_0.1': 0.03249046014161615,\n",
       " 'alpha_0.5': 0.04880476972244459,\n",
       " 'alpha_1.0': 0.06206055565473934,\n",
       " 'alpha_1.5': 0.06787283242661013,\n",
       " 'alpha_2.0': 0.07392524148348487,\n",
       " 'alpha_5.0': 0.08662265637516443,\n",
       " 'alpha_10': 0.08494840822321784,\n",
       " 'alpha_7.0': 0.0738528162114286,\n",
       " 'alpha_8.0': 0.07927266258652564,\n",
       " 'alpha_9.0': 0.08085138384649088,\n",
       " 'alpha_6.0': 0.0811522128229319,\n",
       " 'alpha_3.0': 0.07889441868080446,\n",
       " 'alpha_4.0': 0.0752074248628338}"
      ]
     },
     "execution_count": 24,
     "metadata": {},
     "output_type": "execute_result"
    }
   ],
   "source": [
    "results"
   ]
  },
  {
   "cell_type": "code",
   "execution_count": 25,
   "id": "88a4cc97",
   "metadata": {},
   "outputs": [
    {
     "data": {
      "text/plain": [
       "<AxesSubplot:>"
      ]
     },
     "execution_count": 25,
     "metadata": {},
     "output_type": "execute_result"
    },
    {
     "data": {
      "image/png": "[encoded data removed]",
      "text/plain": [
       "<Figure size 640x480 with 1 Axes>"
      ]
     },
     "metadata": {},
     "output_type": "display_data"
    }
   ],
   "source": [
    "y = ['alpha_0.1', 'alpha_0.5', 'alpha_1.0', 'alpha_1.5', 'alpha_2.0', 'alpha_3.0', 'alpha_4.0', 'alpha_5.0', 'alpha_6.0', 'alpha_7.0', 'alpha_8.0', 'alpha_9.0', 'alpha_10']\n",
    "x = [results[alpha] for alpha in y ]\n",
    "sb.barplot(y = y, x =  x, palette = \"Accent_r\")"
   ]
  },
  {
   "cell_type": "markdown",
   "id": "9ff6d795",
   "metadata": {},
   "source": [
    "### tune dimensions"
   ]
  },
  {
   "cell_type": "code",
   "execution_count": 30,
   "id": "922b9d39",
   "metadata": {},
   "outputs": [],
   "source": [
    "config_dict = {\n",
    "    \"factors\":None, \n",
    "    \"regularization\":0.01, \n",
    "    \"alpha\":5.0, \n",
    "    \"iterations\" : 20,\n",
    "    \"calculate_training_loss\":True,\n",
    "    \"random_state\":0\n",
    "}"
   ]
  },
  {
   "cell_type": "code",
   "execution_count": 31,
   "id": "23506ea4",
   "metadata": {},
   "outputs": [
    {
     "name": "stderr",
     "output_type": "stream",
     "text": [
      "100%|█████████████████████████████████████████████████████████████████████| 20/20 [00:08<00:00,  2.41it/s, loss=0.0103]\n",
      "100%|████████████████████████████████████████████████████████████████████████████| 1000/1000 [00:00<00:00, 1230.38it/s]\n",
      "100%|████████████████████████████████████████████████████████████████████| 20/20 [00:14<00:00,  1.35it/s, loss=0.00954]\n",
      "100%|████████████████████████████████████████████████████████████████████████████| 1000/1000 [00:00<00:00, 1444.29it/s]\n",
      "100%|████████████████████████████████████████████████████████████████████| 20/20 [00:17<00:00,  1.12it/s, loss=0.00841]\n",
      "100%|████████████████████████████████████████████████████████████████████████████| 1000/1000 [00:00<00:00, 1194.33it/s]\n",
      "100%|████████████████████████████████████████████████████████████████████| 20/20 [00:19<00:00,  1.05it/s, loss=0.00749]\n",
      "100%|████████████████████████████████████████████████████████████████████████████| 1000/1000 [00:00<00:00, 1020.05it/s]\n",
      "100%|████████████████████████████████████████████████████████████████████| 20/20 [00:19<00:00,  1.03it/s, loss=0.00692]\n",
      "100%|████████████████████████████████████████████████████████████████████████████| 1000/1000 [00:00<00:00, 1115.23it/s]\n",
      "100%|████████████████████████████████████████████████████████████████████| 20/20 [00:23<00:00,  1.17s/it, loss=0.00518]\n",
      "100%|█████████████████████████████████████████████████████████████████████████████| 1000/1000 [00:01<00:00, 875.61it/s]\n"
     ]
    }
   ],
   "source": [
    "factor_values = [16,32,64,100,128,256]\n",
    "results = {}\n",
    "for factors in factor_values:\n",
    "    config_dict[\"factors\"] = factors\n",
    "    # train \n",
    "    model = ALSRecommender(model_name, config_dict, train_csr, user_map, item_map)\n",
    "    model.fit()\n",
    "    # evaluate\n",
    "    results[f\"factors_{factors}\"] = evaluate(model, test)"
   ]
  },
  {
   "cell_type": "code",
   "execution_count": 32,
   "id": "8b558761",
   "metadata": {},
   "outputs": [
    {
     "data": {
      "text/plain": [
       "{'factors_16': 0.0650027839190787,\n",
       " 'factors_32': 0.07657279563244752,\n",
       " 'factors_64': 0.07975592906353837,\n",
       " 'factors_100': 0.08248291144269039,\n",
       " 'factors_128': 0.08935284161679342,\n",
       " 'factors_256': 0.09701352183837234}"
      ]
     },
     "execution_count": 32,
     "metadata": {},
     "output_type": "execute_result"
    }
   ],
   "source": [
    "results"
   ]
  },
  {
   "cell_type": "code",
   "execution_count": 33,
   "id": "86c44bf6",
   "metadata": {},
   "outputs": [
    {
     "data": {
      "text/plain": [
       "<AxesSubplot:>"
      ]
     },
     "execution_count": 33,
     "metadata": {},
     "output_type": "execute_result"
    },
    {
     "data": {
      "image/png": "[encoded data removed]",
      "text/plain": [
       "<Figure size 640x480 with 1 Axes>"
      ]
     },
     "metadata": {},
     "output_type": "display_data"
    }
   ],
   "source": [
    "sb.barplot(y = list(results.keys()), x =  list(results.values()), palette = \"Accent_r\")"
   ]
  },
  {
   "cell_type": "markdown",
   "id": "62f626dd",
   "metadata": {},
   "source": [
    "### retrain and save best"
   ]
  },
  {
   "cell_type": "code",
   "execution_count": 10,
   "id": "a68ac8a6",
   "metadata": {},
   "outputs": [],
   "source": [
    "model_path = r\"C:\\Users\\tanch\\Documents\\NTU\\NTU Year 4\\Semester 1\\CZ4125 - Developing Data Products\\Assignments\\Team Assignment - book recommendation\\code\\models\\final_recommender\"\n",
    "config_dict = {\n",
    "    \"factors\":128, \n",
    "    \"regularization\":0.01, \n",
    "    \"alpha\":5.0, \n",
    "    \"iterations\" : 30,\n",
    "    \"calculate_training_loss\":True,\n",
    "    \"random_state\":0\n",
    "}\n",
    "model_name = \"AlternatingLeastSquares\""
   ]
  },
  {
   "cell_type": "code",
   "execution_count": 11,
   "id": "94d7fb4a",
   "metadata": {},
   "outputs": [
    {
     "name": "stderr",
     "output_type": "stream",
     "text": [
      "100%|█████████████████████████████████████████████████████████████████████| 30/30 [00:29<00:00,  1.01it/s, loss=0.0069]\n"
     ]
    }
   ],
   "source": [
    "# train \n",
    "model = ALSRecommender(model_name, config_dict, train_csr, user_map, item_map)\n",
    "model.fit(show_progress = True)"
   ]
  },
  {
   "cell_type": "code",
   "execution_count": 12,
   "id": "eaaee8ae",
   "metadata": {},
   "outputs": [
    {
     "name": "stderr",
     "output_type": "stream",
     "text": [
      "100%|████████████████████████████████████████████████████████████████████████████| 1000/1000 [00:00<00:00, 1123.56it/s]\n"
     ]
    },
    {
     "data": {
      "text/plain": [
       "0.084719441155672"
      ]
     },
     "execution_count": 12,
     "metadata": {},
     "output_type": "execute_result"
    }
   ],
   "source": [
    "evaluate(model, test)"
   ]
  },
  {
   "cell_type": "code",
   "execution_count": 13,
   "id": "7f26cc56",
   "metadata": {},
   "outputs": [],
   "source": [
    "# save model\n",
    "model.save(model_path)"
   ]
  },
  {
   "cell_type": "code",
   "execution_count": 9,
   "id": "ab2f1dcd",
   "metadata": {},
   "outputs": [],
   "source": [
    "\n",
    "# load model\n",
    "model = ALSRecommender(config_dict, train_csr, user_map, item_map)\n",
    "model.load(model_path)"
   ]
  },
  {
   "cell_type": "code",
   "execution_count": null,
   "id": "493454ab",
   "metadata": {},
   "outputs": [],
   "source": []
  },
  {
   "cell_type": "code",
   "execution_count": null,
   "id": "287b5677",
   "metadata": {},
   "outputs": [],
   "source": []
  },
  {
   "cell_type": "code",
   "execution_count": null,
   "id": "0f40cf18",
   "metadata": {},
   "outputs": [],
   "source": []
  },
  {
   "cell_type": "markdown",
   "id": "891aadde",
   "metadata": {},
   "source": [
    "### save pickling other objects"
   ]
  },
  {
   "cell_type": "code",
   "execution_count": 15,
   "id": "cbb21026",
   "metadata": {},
   "outputs": [],
   "source": [
    "import pickle\n",
    "import os\n",
    "directory = r\"C:\\Users\\tanch\\Documents\\NTU\\NTU Year 4\\Semester 1\\CZ4125 - Developing Data Products\\Assignments\\Team Assignment - book recommendation\\code\\models\"\n",
    "with open(os.path.join(directory,\"item_map.pkl\"),\"wb\") as f:\n",
    "    pickle.dump(item_map, f)"
   ]
  },
  {
   "cell_type": "code",
   "execution_count": 16,
   "id": "2965b75b",
   "metadata": {},
   "outputs": [],
   "source": [
    "with open(os.path.join(directory,\"user_map.pkl\"),\"wb\") as f:\n",
    "    pickle.dump(user_map, f)\n",
    "with open(os.path.join(directory,\"train_csr.pkl\"),\"wb\") as f:\n",
    "    pickle.dump(train_csr, f)"
   ]
  }
 ],
 "metadata": {
  "kernelspec": {
   "display_name": "dp",
   "language": "python",
   "name": "dp"
  },
  "language_info": {
   "codemirror_mode": {
    "name": "ipython",
    "version": 3
   },
   "file_extension": ".py",
   "mimetype": "text/x-python",
   "name": "python",
   "nbconvert_exporter": "python",
   "pygments_lexer": "ipython3",
   "version": "3.9.12"
  }
 },
 "nbformat": 4,
 "nbformat_minor": 5
}
