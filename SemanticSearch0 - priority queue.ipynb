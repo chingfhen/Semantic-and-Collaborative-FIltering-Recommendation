{
 "cells": [
  {
   "cell_type": "markdown",
   "id": "34eeb25a",
   "metadata": {},
   "source": [
    "# ABOUT \n",
    "- this notebook tries experiments with a fast version of priority queue\n",
    "- background:\n",
    "    - MongoDB returns documents in the form of a iterable Cursor, which we will loop through\n",
    "    - for each document, we compute a similarity score and we want only the topk documents\n",
    "    - thus, we will use a fast priority queue to select the topk documents with the highest similarity score\n",
    "- code source:\n",
    "    - https://github.com/abadger/priorityqueue"
   ]
  },
  {
   "cell_type": "code",
   "execution_count": 1,
   "id": "861d2483",
   "metadata": {},
   "outputs": [],
   "source": [
    "# Copyright: (c) 2019, Toshio Kuratomi <a.badger@gmail.com>\n",
    "# GNU General Public License v3.0+ (see COPYING or https://www.gnu.org/licenses/gpl-3.0.txt)\n",
    "import heapq\n",
    "from collections import deque\n",
    "\n",
    "class PriorityQueue:\n",
    "    def __init__(self):\n",
    "        self.ordered_store = []\n",
    "        self.lookup_store = {}\n",
    "\n",
    "    def push(self, value, priority=None):\n",
    "        if priority is None:\n",
    "            priority = 0\n",
    "\n",
    "        if priority not in self.lookup_store:\n",
    "            heapq.heappush(self.ordered_store, priority)\n",
    "            self.lookup_store[priority] = deque()\n",
    "        self.lookup_store[priority].append(value)\n",
    "\n",
    "    def pop(self):\n",
    "        priority = self.ordered_store[0]\n",
    "        store = self.lookup_store[priority]\n",
    "        value = store.popleft()\n",
    "\n",
    "        if not store:\n",
    "            heapq.heappop(self.ordered_store)\n",
    "\n",
    "        return value\n",
    "\n",
    "    def __len__(self):\n",
    "        total_len = 0\n",
    "        for queue in self.lookup_store.values():\n",
    "            total_len += len(queue)\n",
    "        return total_len\n",
    "\n",
    "    def __bool__(self):\n",
    "        return True if self.ordered_store else False\n",
    "\n",
    "    def compact(self):\n",
    "        \"\"\"Reduce the memory requirements of the queue\"\"\"\n",
    "        for priority in list(self.lookup_store.keys()):\n",
    "            if not self.lookup_store[priority]:\n",
    "                del self.lookup_store[priority]\n",
    "      \n",
    "    \n",
    "    \n",
    "\"\"\"\n",
    "Plus Version only requires push to be called (makes things easier)\n",
    "\"\"\"\n",
    "class PriorityQueuePlus(PriorityQueue):\n",
    "    def __init__(self, topk, max_size):\n",
    "        super().__init__()\n",
    "        self.topk = topk\n",
    "        self.max_size = max_size\n",
    "    def push(self, value, priority=None):\n",
    "        super().push(value, priority)\n",
    "        if self.__len__() > self.topk:\n",
    "            self.pop()\n",
    "        if len(self.lookup_store)> self.max_size:\n",
    "            self.compact() \n",
    "    def get_topk(self):\n",
    "        self.compact()\n",
    "        output = [(item[0], score) for score, item in self.lookup_store.items()]\n",
    "        return sorted(output, key = lambda element: element[1], reverse = True)"
   ]
  },
  {
   "cell_type": "markdown",
   "id": "6efd19db",
   "metadata": {},
   "source": [
    "## mock data\n",
    "- assign letters a-z with ascending numbers which represent their priority\n",
    "- shuffle the mock data\n",
    "- passing the mock data through the queue should return the last k letters of the alphabets because they were assigned the high priorities"
   ]
  },
  {
   "cell_type": "code",
   "execution_count": 2,
   "id": "8baac89a",
   "metadata": {
    "scrolled": true
   },
   "outputs": [
    {
     "data": {
      "text/plain": [
       "[('a', 0.0),\n",
       " ('p', 5.769230769230769),\n",
       " ('o', 5.384615384615385),\n",
       " ('i', 3.076923076923077),\n",
       " ('h', 2.6923076923076925),\n",
       " ('s', 6.923076923076923),\n",
       " ('d', 1.153846153846154),\n",
       " ('t', 7.307692307692308),\n",
       " ('c', 0.7692307692307693),\n",
       " ('e', 1.5384615384615385),\n",
       " ('r', 6.538461538461539),\n",
       " ('j', 3.4615384615384617),\n",
       " ('w', 8.461538461538462),\n",
       " ('v', 8.076923076923077),\n",
       " ('m', 4.615384615384616),\n",
       " ('y', 9.230769230769232),\n",
       " ('b', 0.38461538461538464),\n",
       " ('x', 8.846153846153847),\n",
       " ('n', 5.0),\n",
       " ('q', 6.153846153846154),\n",
       " ('k', 3.8461538461538463),\n",
       " ('l', 4.230769230769231),\n",
       " ('g', 2.307692307692308),\n",
       " ('f', 1.9230769230769231),\n",
       " ('u', 7.6923076923076925),\n",
       " ('z', 9.615384615384617)]"
      ]
     },
     "execution_count": 2,
     "metadata": {},
     "output_type": "execute_result"
    }
   ],
   "source": [
    "import numpy as np\n",
    "from random import shuffle\n",
    "values = list(\"abcdefghijklmnopqrstuvwxyz\")\n",
    "priorities = np.arange(0,10,10/len(values))\n",
    "data = list(tuple(zip(values,priorities)))\n",
    "shuffle(data)\n",
    "data"
   ]
  },
  {
   "cell_type": "markdown",
   "id": "f29ce151",
   "metadata": {},
   "source": [
    "## run queue\n",
    "- since the topk values returned are z', 'y', 'v', 'x', 'w', the queue is implemented correctly"
   ]
  },
  {
   "cell_type": "code",
   "execution_count": 3,
   "id": "7a4dacbf",
   "metadata": {},
   "outputs": [],
   "source": [
    "q = PriorityQueuePlus(5, 8)\n",
    "for value, priority in data:\n",
    "    q.push(value, priority = priority)"
   ]
  },
  {
   "cell_type": "code",
   "execution_count": 4,
   "id": "da11122f",
   "metadata": {},
   "outputs": [
    {
     "data": {
      "text/plain": [
       "[('z', 9.615384615384617),\n",
       " ('y', 9.230769230769232),\n",
       " ('x', 8.846153846153847),\n",
       " ('w', 8.461538461538462),\n",
       " ('v', 8.076923076923077)]"
      ]
     },
     "execution_count": 4,
     "metadata": {},
     "output_type": "execute_result"
    }
   ],
   "source": [
    "q.get_topk()"
   ]
  },
  {
   "cell_type": "code",
   "execution_count": null,
   "id": "b26806ff",
   "metadata": {},
   "outputs": [],
   "source": []
  }
 ],
 "metadata": {
  "kernelspec": {
   "display_name": "dp",
   "language": "python",
   "name": "dp"
  },
  "language_info": {
   "codemirror_mode": {
    "name": "ipython",
    "version": 3
   },
   "file_extension": ".py",
   "mimetype": "text/x-python",
   "name": "python",
   "nbconvert_exporter": "python",
   "pygments_lexer": "ipython3",
   "version": "3.9.12"
  }
 },
 "nbformat": 4,
 "nbformat_minor": 5
}
