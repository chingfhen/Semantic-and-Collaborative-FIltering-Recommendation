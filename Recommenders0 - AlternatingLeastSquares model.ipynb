{
 "cells": [
  {
   "cell_type": "code",
   "execution_count": 2,
   "id": "a45bf068",
   "metadata": {},
   "outputs": [
    {
     "name": "stderr",
     "output_type": "stream",
     "text": [
      "C:\\Users\\tanch\\anaconda3\\envs\\dp\\lib\\site-packages\\tqdm\\auto.py:22: TqdmWarning: IProgress not found. Please update jupyter and ipywidgets. See https://ipywidgets.readthedocs.io/en/stable/user_install.html\n",
      "  from .autonotebook import tqdm as notebook_tqdm\n"
     ]
    }
   ],
   "source": [
    "from models import ALSRecommender, PopRecommender\n",
    "from evaluation import evaluate\n",
    "from processing import *\n",
    "from utils import IDMAP\n",
    "import pandas as pd\n",
    "\n"
   ]
  },
  {
   "cell_type": "markdown",
   "id": "fd96d68a",
   "metadata": {},
   "source": [
    "### process"
   ]
  },
  {
   "cell_type": "code",
   "execution_count": 3,
   "id": "9a0ab106",
   "metadata": {},
   "outputs": [],
   "source": [
    "path = r\"C:\\Users\\tanch\\Documents\\NTU\\NTU Year 4\\Semester 1\\CZ4125 - Developing Data Products\\Assignments\\Team Assignment - book recommendation\\data\\Ratings.csv\\Ratings.csv\"\n",
    "data = pd.read_csv(path)"
   ]
  },
  {
   "cell_type": "code",
   "execution_count": 8,
   "id": "a62a063b",
   "metadata": {},
   "outputs": [
    {
     "data": {
      "text/html": [
       "<div>\n",
       "<style scoped>\n",
       "    .dataframe tbody tr th:only-of-type {\n",
       "        vertical-align: middle;\n",
       "    }\n",
       "\n",
       "    .dataframe tbody tr th {\n",
       "        vertical-align: top;\n",
       "    }\n",
       "\n",
       "    .dataframe thead th {\n",
       "        text-align: right;\n",
       "    }\n",
       "</style>\n",
       "<table border=\"1\" class=\"dataframe\">\n",
       "  <thead>\n",
       "    <tr style=\"text-align: right;\">\n",
       "      <th></th>\n",
       "      <th>User-ID</th>\n",
       "      <th>ISBN</th>\n",
       "      <th>Book-Rating</th>\n",
       "    </tr>\n",
       "  </thead>\n",
       "  <tbody>\n",
       "    <tr>\n",
       "      <th>0</th>\n",
       "      <td>276725</td>\n",
       "      <td>034545104X</td>\n",
       "      <td>0</td>\n",
       "    </tr>\n",
       "    <tr>\n",
       "      <th>1</th>\n",
       "      <td>276726</td>\n",
       "      <td>0155061224</td>\n",
       "      <td>5</td>\n",
       "    </tr>\n",
       "    <tr>\n",
       "      <th>2</th>\n",
       "      <td>276727</td>\n",
       "      <td>0446520802</td>\n",
       "      <td>0</td>\n",
       "    </tr>\n",
       "    <tr>\n",
       "      <th>3</th>\n",
       "      <td>276729</td>\n",
       "      <td>052165615X</td>\n",
       "      <td>3</td>\n",
       "    </tr>\n",
       "    <tr>\n",
       "      <th>4</th>\n",
       "      <td>276729</td>\n",
       "      <td>0521795028</td>\n",
       "      <td>6</td>\n",
       "    </tr>\n",
       "    <tr>\n",
       "      <th>...</th>\n",
       "      <td>...</td>\n",
       "      <td>...</td>\n",
       "      <td>...</td>\n",
       "    </tr>\n",
       "    <tr>\n",
       "      <th>1149775</th>\n",
       "      <td>276704</td>\n",
       "      <td>1563526298</td>\n",
       "      <td>9</td>\n",
       "    </tr>\n",
       "    <tr>\n",
       "      <th>1149776</th>\n",
       "      <td>276706</td>\n",
       "      <td>0679447156</td>\n",
       "      <td>0</td>\n",
       "    </tr>\n",
       "    <tr>\n",
       "      <th>1149777</th>\n",
       "      <td>276709</td>\n",
       "      <td>0515107662</td>\n",
       "      <td>10</td>\n",
       "    </tr>\n",
       "    <tr>\n",
       "      <th>1149778</th>\n",
       "      <td>276721</td>\n",
       "      <td>0590442449</td>\n",
       "      <td>10</td>\n",
       "    </tr>\n",
       "    <tr>\n",
       "      <th>1149779</th>\n",
       "      <td>276723</td>\n",
       "      <td>05162443314</td>\n",
       "      <td>8</td>\n",
       "    </tr>\n",
       "  </tbody>\n",
       "</table>\n",
       "<p>1149780 rows × 3 columns</p>\n",
       "</div>"
      ],
      "text/plain": [
       "         User-ID         ISBN  Book-Rating\n",
       "0         276725   034545104X            0\n",
       "1         276726   0155061224            5\n",
       "2         276727   0446520802            0\n",
       "3         276729   052165615X            3\n",
       "4         276729   0521795028            6\n",
       "...          ...          ...          ...\n",
       "1149775   276704   1563526298            9\n",
       "1149776   276706   0679447156            0\n",
       "1149777   276709   0515107662           10\n",
       "1149778   276721   0590442449           10\n",
       "1149779   276723  05162443314            8\n",
       "\n",
       "[1149780 rows x 3 columns]"
      ]
     },
     "execution_count": 8,
     "metadata": {},
     "output_type": "execute_result"
    }
   ],
   "source": [
    "data"
   ]
  },
  {
   "cell_type": "code",
   "execution_count": 2,
   "id": "9ae5578d",
   "metadata": {},
   "outputs": [],
   "source": [
    "path = r\"C:\\Users\\tanch\\Documents\\NTU\\NTU Year 4\\Semester 1\\CZ4125 - Developing Data Products\\Assignments\\Team Assignment - book recommendation\\data\\Ratings.csv\\Ratings.csv\"\n",
    "data = pd.read_csv(path)\n",
    "\n",
    "# remove samples with less than minimum_interaction\n",
    "processed_data = filter_by_num_interactions(data, \"User-ID\", \"ISBN\", minimum_interaction = 10)\n",
    "processed_data = filter_by_num_interactions(processed_data, \"ISBN\", \"User-ID\", minimum_interaction = 10)\n",
    "processed_data = filter_by_num_interactions(processed_data, \"User-ID\", \"ISBN\", minimum_interaction = 10)\n",
    "processed_data = filter_by_num_interactions(processed_data, \"ISBN\", \"User-ID\", minimum_interaction = 10)\n",
    "# add column containing all ones\n",
    "processed_data = add_interaction_column(processed_data)\n",
    "# train_test_split\n",
    "train, test = train_test_split(processed_data, train_frac = 0.7, seed = 0)\n",
    "# convert to csr interaction matrix i.e input to model\n",
    "train_csr, users, items = df2interact_mat(df = train, user_col = 'User-ID', item_col = \"ISBN\", interact_col = \"interaction\")\n",
    "# retain a mapping between userids, itemids and their indexes in the recommender model\n",
    "user_map = IDMAP(users)\n",
    "item_map = IDMAP(items)"
   ]
  },
  {
   "cell_type": "code",
   "execution_count": 3,
   "id": "8d1812a1",
   "metadata": {},
   "outputs": [],
   "source": [
    "model_path = r\"C:\\Users\\tanch\\Documents\\NTU\\NTU Year 4\\Semester 1\\CZ4125 - Developing Data Products\\Assignments\\Team Assignment - book recommendation\\code\\models\\test0\"\n",
    "config_dict = {\n",
    "    \"factors\":64, \n",
    "    \"regularization\":0.01, \n",
    "    \"alpha\":1.0, \n",
    "    \"iterations\" : 20,\n",
    "    \"calculate_training_loss\":True,\n",
    "    \"random_state\":0\n",
    "}"
   ]
  },
  {
   "cell_type": "markdown",
   "id": "28fe2237",
   "metadata": {},
   "source": [
    "### train and evaluate recommender model"
   ]
  },
  {
   "cell_type": "code",
   "execution_count": 4,
   "id": "f0a2f657",
   "metadata": {},
   "outputs": [
    {
     "name": "stderr",
     "output_type": "stream",
     "text": [
      "100%|████████████████████████████████████████████████████████████████████| 20/20 [00:19<00:00,  1.05it/s, loss=0.00218]\n"
     ]
    }
   ],
   "source": [
    "# train model\n",
    "model = ALSRecommender(config_dict, train_csr, user_map, item_map)\n",
    "model.fit()\n",
    "# save model\n",
    "model.save(model_path)"
   ]
  },
  {
   "cell_type": "code",
   "execution_count": 9,
   "id": "ab2f1dcd",
   "metadata": {},
   "outputs": [],
   "source": [
    "# load model\n",
    "model = ALSRecommender(config_dict, train_csr, user_map, item_map)\n",
    "model.load(model_path)"
   ]
  },
  {
   "cell_type": "code",
   "execution_count": 10,
   "id": "80a06351",
   "metadata": {
    "scrolled": false
   },
   "outputs": [
    {
     "name": "stderr",
     "output_type": "stream",
     "text": [
      "100%|████████████████████████████████████████████████████████████████████████████| 1000/1000 [00:00<00:00, 1002.28it/s]\n"
     ]
    },
    {
     "data": {
      "text/plain": [
       "0.06068474744054424"
      ]
     },
     "execution_count": 10,
     "metadata": {},
     "output_type": "execute_result"
    }
   ],
   "source": [
    "evaluate(model, test)"
   ]
  },
  {
   "cell_type": "markdown",
   "id": "f422dc10",
   "metadata": {},
   "source": [
    "### evaluate popularity recommender"
   ]
  },
  {
   "cell_type": "code",
   "execution_count": 11,
   "id": "0bcddbaa",
   "metadata": {},
   "outputs": [],
   "source": [
    "pop = PopRecommender()\n",
    "pop.fit(train)"
   ]
  },
  {
   "cell_type": "code",
   "execution_count": 12,
   "id": "ebe1c6e3",
   "metadata": {},
   "outputs": [
    {
     "name": "stderr",
     "output_type": "stream",
     "text": [
      "100%|█████████████████████████████████████████████████████████████████████████████| 1000/1000 [00:07<00:00, 139.95it/s]\n"
     ]
    },
    {
     "data": {
      "text/plain": [
       "0.0064396601308490346"
      ]
     },
     "execution_count": 12,
     "metadata": {},
     "output_type": "execute_result"
    }
   ],
   "source": [
    "evaluate(pop, test)"
   ]
  }
 ],
 "metadata": {
  "kernelspec": {
   "display_name": "dp",
   "language": "python",
   "name": "dp"
  },
  "language_info": {
   "codemirror_mode": {
    "name": "ipython",
    "version": 3
   },
   "file_extension": ".py",
   "mimetype": "text/x-python",
   "name": "python",
   "nbconvert_exporter": "python",
   "pygments_lexer": "ipython3",
   "version": "3.9.12"
  }
 },
 "nbformat": 4,
 "nbformat_minor": 5
}
